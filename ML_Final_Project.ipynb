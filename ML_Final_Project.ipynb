{
  "nbformat": 4,
  "nbformat_minor": 0,
  "metadata": {
    "colab": {
      "name": "ML Final Project.ipynb",
      "provenance": [],
      "collapsed_sections": [],
      "include_colab_link": true
    },
    "kernelspec": {
      "name": "python3",
      "display_name": "Python 3"
    }
  },
  "cells": [
    {
      "cell_type": "markdown",
      "metadata": {
        "id": "view-in-github",
        "colab_type": "text"
      },
      "source": [
        "<a href=\"https://colab.research.google.com/github/alhsu713/IntroMLFinal/blob/master/ML_Final_Project.ipynb\" target=\"_parent\"><img src=\"https://colab.research.google.com/assets/colab-badge.svg\" alt=\"Open In Colab\"/></a>"
      ]
    },
    {
      "cell_type": "markdown",
      "metadata": {
        "id": "0_XWWeceD97v",
        "colab_type": "text"
      },
      "source": [
        "\n",
        "\n",
        "```\n",
        "Our question:  Is it possible to whether or not a team won League of Legends match based on the statistics of a match?\n",
        "Dataset used: https://www.kaggle.com/gyejr95/league-of-legendslol-ranked-games-2020-ver1/kernels?sortBy=dateRun&group=profile&pageSize=20&datasetId=586003\n",
        "```\n",
        "\n"
      ]
    },
    {
      "cell_type": "code",
      "metadata": {
        "id": "BPfvaK5EKrP_",
        "colab_type": "code",
        "colab": {}
      },
      "source": [
        "from google.colab import drive \n",
        "drive.mount('/content/drive')\n",
        "\n",
        "import matplotlib.pyplot as plt\n",
        "import numpy as np\n",
        "import pandas as pd\n",
        "from sklearn.model_selection import train_test_split\n",
        "from sklearn.neighbors import KNeighborsClassifier\n",
        "\n",
        "%matplotlib inline"
      ],
      "execution_count": null,
      "outputs": []
    },
    {
      "cell_type": "code",
      "metadata": {
        "id": "LVDFIGRMMIQJ",
        "colab_type": "code",
        "colab": {
          "base_uri": "https://localhost:8080/",
          "height": 204
        },
        "outputId": "937e2095-6114-4c24-9eff-db911bd91ad9"
      },
      "source": [
        "players = pd.read_csv('drive/My Drive/challenger_match.csv').copy()\n",
        "players.head()"
      ],
      "execution_count": null,
      "outputs": [
        {
          "output_type": "execute_result",
          "data": {
            "text/html": [
              "<div>\n",
              "<style scoped>\n",
              "    .dataframe tbody tr th:only-of-type {\n",
              "        vertical-align: middle;\n",
              "    }\n",
              "\n",
              "    .dataframe tbody tr th {\n",
              "        vertical-align: top;\n",
              "    }\n",
              "\n",
              "    .dataframe thead th {\n",
              "        text-align: right;\n",
              "    }\n",
              "</style>\n",
              "<table border=\"1\" class=\"dataframe\">\n",
              "  <thead>\n",
              "    <tr style=\"text-align: right;\">\n",
              "      <th></th>\n",
              "      <th>Unnamed: 0</th>\n",
              "      <th>gameId</th>\n",
              "      <th>season</th>\n",
              "      <th>role</th>\n",
              "      <th>lane</th>\n",
              "      <th>accountId</th>\n",
              "    </tr>\n",
              "  </thead>\n",
              "  <tbody>\n",
              "    <tr>\n",
              "      <th>0</th>\n",
              "      <td>0</td>\n",
              "      <td>4260630568</td>\n",
              "      <td>13</td>\n",
              "      <td>DUO_SUPPORT</td>\n",
              "      <td>BOTTOM</td>\n",
              "      <td>IIWG7FRiqE8CuZaCslKkNxkglwpgnePPxDslb2tv66FKrgo</td>\n",
              "    </tr>\n",
              "    <tr>\n",
              "      <th>1</th>\n",
              "      <td>1</td>\n",
              "      <td>4260452798</td>\n",
              "      <td>13</td>\n",
              "      <td>DUO</td>\n",
              "      <td>TOP</td>\n",
              "      <td>IIWG7FRiqE8CuZaCslKkNxkglwpgnePPxDslb2tv66FKrgo</td>\n",
              "    </tr>\n",
              "    <tr>\n",
              "      <th>2</th>\n",
              "      <td>2</td>\n",
              "      <td>4260353406</td>\n",
              "      <td>13</td>\n",
              "      <td>SOLO</td>\n",
              "      <td>MID</td>\n",
              "      <td>IIWG7FRiqE8CuZaCslKkNxkglwpgnePPxDslb2tv66FKrgo</td>\n",
              "    </tr>\n",
              "    <tr>\n",
              "      <th>3</th>\n",
              "      <td>3</td>\n",
              "      <td>4260272376</td>\n",
              "      <td>13</td>\n",
              "      <td>SOLO</td>\n",
              "      <td>TOP</td>\n",
              "      <td>IIWG7FRiqE8CuZaCslKkNxkglwpgnePPxDslb2tv66FKrgo</td>\n",
              "    </tr>\n",
              "    <tr>\n",
              "      <th>4</th>\n",
              "      <td>4</td>\n",
              "      <td>4260082928</td>\n",
              "      <td>13</td>\n",
              "      <td>SOLO</td>\n",
              "      <td>MID</td>\n",
              "      <td>IIWG7FRiqE8CuZaCslKkNxkglwpgnePPxDslb2tv66FKrgo</td>\n",
              "    </tr>\n",
              "  </tbody>\n",
              "</table>\n",
              "</div>"
            ],
            "text/plain": [
              "   Unnamed: 0  ...                                        accountId\n",
              "0           0  ...  IIWG7FRiqE8CuZaCslKkNxkglwpgnePPxDslb2tv66FKrgo\n",
              "1           1  ...  IIWG7FRiqE8CuZaCslKkNxkglwpgnePPxDslb2tv66FKrgo\n",
              "2           2  ...  IIWG7FRiqE8CuZaCslKkNxkglwpgnePPxDslb2tv66FKrgo\n",
              "3           3  ...  IIWG7FRiqE8CuZaCslKkNxkglwpgnePPxDslb2tv66FKrgo\n",
              "4           4  ...  IIWG7FRiqE8CuZaCslKkNxkglwpgnePPxDslb2tv66FKrgo\n",
              "\n",
              "[5 rows x 6 columns]"
            ]
          },
          "metadata": {
            "tags": []
          },
          "execution_count": 30
        }
      ]
    },
    {
      "cell_type": "code",
      "metadata": {
        "id": "u2fII-mFQWWa",
        "colab_type": "code",
        "colab": {
          "base_uri": "https://localhost:8080/",
          "height": 17
        },
        "outputId": "3bcb1293-2f09-4974-e944-d957604eb1c5"
      },
      "source": [
        "players2 = pd.read_csv('drive/My Drive/challenger_match_V2.csv').copy()\n",
        "players2.head()"
      ],
      "execution_count": null,
      "outputs": [
        {
          "output_type": "execute_result",
          "data": {
            "text/html": [
              "<div>\n",
              "<style scoped>\n",
              "    .dataframe tbody tr th:only-of-type {\n",
              "        vertical-align: middle;\n",
              "    }\n",
              "\n",
              "    .dataframe tbody tr th {\n",
              "        vertical-align: top;\n",
              "    }\n",
              "\n",
              "    .dataframe thead th {\n",
              "        text-align: right;\n",
              "    }\n",
              "</style>\n",
              "<table border=\"1\" class=\"dataframe\">\n",
              "  <thead>\n",
              "    <tr style=\"text-align: right;\">\n",
              "      <th></th>\n",
              "      <th>Unnamed: 0</th>\n",
              "      <th>gameId</th>\n",
              "      <th>season</th>\n",
              "      <th>role</th>\n",
              "      <th>lane</th>\n",
              "      <th>accountId</th>\n",
              "    </tr>\n",
              "  </thead>\n",
              "  <tbody>\n",
              "    <tr>\n",
              "      <th>0</th>\n",
              "      <td>0</td>\n",
              "      <td>4118590836</td>\n",
              "      <td>13</td>\n",
              "      <td>SOLO</td>\n",
              "      <td>TOP</td>\n",
              "      <td>IIWG7FRiqE8CuZaCslKkNxkglwpgnePPxDslb2tv66FKrgo</td>\n",
              "    </tr>\n",
              "    <tr>\n",
              "      <th>1</th>\n",
              "      <td>1</td>\n",
              "      <td>4118495113</td>\n",
              "      <td>13</td>\n",
              "      <td>DUO_SUPPORT</td>\n",
              "      <td>NONE</td>\n",
              "      <td>IIWG7FRiqE8CuZaCslKkNxkglwpgnePPxDslb2tv66FKrgo</td>\n",
              "    </tr>\n",
              "    <tr>\n",
              "      <th>2</th>\n",
              "      <td>2</td>\n",
              "      <td>4118432488</td>\n",
              "      <td>13</td>\n",
              "      <td>DUO_SUPPORT</td>\n",
              "      <td>NONE</td>\n",
              "      <td>IIWG7FRiqE8CuZaCslKkNxkglwpgnePPxDslb2tv66FKrgo</td>\n",
              "    </tr>\n",
              "    <tr>\n",
              "      <th>3</th>\n",
              "      <td>3</td>\n",
              "      <td>4118306793</td>\n",
              "      <td>13</td>\n",
              "      <td>SOLO</td>\n",
              "      <td>TOP</td>\n",
              "      <td>IIWG7FRiqE8CuZaCslKkNxkglwpgnePPxDslb2tv66FKrgo</td>\n",
              "    </tr>\n",
              "    <tr>\n",
              "      <th>4</th>\n",
              "      <td>4</td>\n",
              "      <td>4105344112</td>\n",
              "      <td>13</td>\n",
              "      <td>DUO_SUPPORT</td>\n",
              "      <td>NONE</td>\n",
              "      <td>IIWG7FRiqE8CuZaCslKkNxkglwpgnePPxDslb2tv66FKrgo</td>\n",
              "    </tr>\n",
              "  </tbody>\n",
              "</table>\n",
              "</div>"
            ],
            "text/plain": [
              "   Unnamed: 0  ...                                        accountId\n",
              "0           0  ...  IIWG7FRiqE8CuZaCslKkNxkglwpgnePPxDslb2tv66FKrgo\n",
              "1           1  ...  IIWG7FRiqE8CuZaCslKkNxkglwpgnePPxDslb2tv66FKrgo\n",
              "2           2  ...  IIWG7FRiqE8CuZaCslKkNxkglwpgnePPxDslb2tv66FKrgo\n",
              "3           3  ...  IIWG7FRiqE8CuZaCslKkNxkglwpgnePPxDslb2tv66FKrgo\n",
              "4           4  ...  IIWG7FRiqE8CuZaCslKkNxkglwpgnePPxDslb2tv66FKrgo\n",
              "\n",
              "[5 rows x 6 columns]"
            ]
          },
          "metadata": {
            "tags": []
          },
          "execution_count": 31
        }
      ]
    },
    {
      "cell_type": "code",
      "metadata": {
        "id": "jv3PaU-0Qn8d",
        "colab_type": "code",
        "colab": {}
      },
      "source": [
        "matches = pd.read_csv('drive/My Drive/match_data_version1.csv').copy()\n",
        "matches.columns"
      ],
      "execution_count": null,
      "outputs": []
    },
    {
      "cell_type": "code",
      "metadata": {
        "id": "CoFCgA02TO_t",
        "colab_type": "code",
        "colab": {
          "base_uri": "https://localhost:8080/",
          "height": 119
        },
        "outputId": "ca2c9d11-82b0-4671-f805-075e54d741c3"
      },
      "source": [
        "losers = pd.read_csv('drive/My Drive/match_loser_data_version1.csv').copy()\n",
        "winners = pd.read_csv('drive/My Drive/match_winner_data_version1.csv').copy()\n",
        "losers.columns\n",
        "winners.columns"
      ],
      "execution_count": null,
      "outputs": [
        {
          "output_type": "execute_result",
          "data": {
            "text/plain": [
              "Index(['Unnamed: 0', 'teamId', 'win', 'firstBlood', 'firstTower',\n",
              "       'firstInhibitor', 'firstBaron', 'firstDragon', 'firstRiftHerald',\n",
              "       'towerKills', 'inhibitorKills', 'baronKills', 'dragonKills',\n",
              "       'vilemawKills', 'riftHeraldKills', 'dominionVictoryScore', 'bans',\n",
              "       'gameId'],\n",
              "      dtype='object')"
            ]
          },
          "metadata": {
            "tags": []
          },
          "execution_count": 3
        }
      ]
    },
    {
      "cell_type": "markdown",
      "metadata": {
        "id": "zxuydbyJLNpl",
        "colab_type": "text"
      },
      "source": [
        "We will examine how various in-game 'achievements' such as first blood (the team to kill their enemy first), first tower, first baron, etc. vary between losers and winners of a match.  In the files \"match_loser_data_version1.csv\" and \"match_winner_data_version1.csv\", information on first blood, first tower, inhibitor, baron, dragon, and rift herald are stored as booleans.  Number of tower kills, inhibitor kills, bro kills, dragon kills, vilemaw kills, rift herald kills, and dominion victory scores are stored as integers.  In an attempt to numerate these achievements, all the boolean values are added to a column “sum”- 1 for true and 0 for false. Since each team has a total of 11 enemy towers to destroy, the number of towers killed are added to “sum” as a fraction of 11, and the rest of the integer columns are added as is.  These sums are graphed below in histograms.  \n"
      ]
    },
    {
      "cell_type": "code",
      "metadata": {
        "id": "5NR8XFJjOtao",
        "colab_type": "code",
        "colab": {
          "base_uri": "https://localhost:8080/",
          "height": 295
        },
        "outputId": "905e51ea-656a-480f-e775-f03c0f1078f6"
      },
      "source": [
        "losers1 = losers.copy()\n",
        "losers1['sum'] = losers1['firstBlood'].astype(int) + losers1['firstTower'].astype(int) + losers1['firstBaron'].astype(int) + losers1['firstDragon'].astype(int) + losers1['firstRiftHerald'].astype(int) + losers1['towerKills']/11 + losers1['inhibitorKills'] + losers1['baronKills'] + losers1['dragonKills'] + losers1['vilemawKills'] + losers1['riftHeraldKills'] + losers1['dominionVictoryScore']\n",
        "plt.hist(losers1['sum'], bins = 150)\n",
        "plt.title('Losers data')\n",
        "plt.xlabel('sum')\n",
        "plt.ylable = ('Frequency')"
      ],
      "execution_count": null,
      "outputs": [
        {
          "output_type": "display_data",
          "data": {
            "image/png": "[encoded data removed]",
            "text/plain": [
              "<Figure size 432x288 with 1 Axes>"
            ]
          },
          "metadata": {
            "tags": [],
            "needs_background": "light"
          }
        }
      ]
    },
    {
      "cell_type": "code",
      "metadata": {
        "id": "OrOzwjbVOzRe",
        "colab_type": "code",
        "colab": {
          "base_uri": "https://localhost:8080/",
          "height": 295
        },
        "outputId": "20ca1d7d-c7d6-4b1c-c2d7-a1f41854f8f3"
      },
      "source": [
        "winners1=winners.copy()\n",
        "winners1['sum'] = winners1['firstBlood'].astype(int) + winners1['firstTower'].astype(int) + winners1['firstBaron'].astype(int) + losers1['firstDragon'].astype(int) + winners1['firstRiftHerald'].astype(int) + winners1['towerKills']/11 + winners1['inhibitorKills'] + winners1['baronKills'] + winners1['dragonKills'] + winners1['vilemawKills'] + winners1['riftHeraldKills'] + winners1['dominionVictoryScore']\n",
        "plt.hist(winners1['sum'], bins = 150)\n",
        "plt.title('Winners data')\n",
        "plt.xlabel('sum')\n",
        "plt.ylable = ('Frequency')"
      ],
      "execution_count": null,
      "outputs": [
        {
          "output_type": "display_data",
          "data": {
            "image/png": "[encoded data removed]",
            "text/plain": [
              "<Figure size 432x288 with 1 Axes>"
            ]
          },
          "metadata": {
            "tags": [],
            "needs_background": "light"
          }
        }
      ]
    },
    {
      "cell_type": "code",
      "metadata": {
        "id": "f2KY_hZxO5aX",
        "colab_type": "code",
        "colab": {
          "base_uri": "https://localhost:8080/",
          "height": 312
        },
        "outputId": "93586505-f9b3-4c49-be09-2d973cc648ac"
      },
      "source": [
        "losers2 = losers1[losers1['sum']>0] #drop the 0 values for loser graph is more coherent\n",
        "plt.hist(winners1['sum'], bins = 150, label='Winners')\n",
        "plt.hist(losers2['sum'], bins = 150, label = 'Losers')\n",
        "plt.title('All data')\n",
        "plt.xlabel('sum')\n",
        "plt.ylable = ('Frequency')\n",
        "plt.legend(loc='upper right')"
      ],
      "execution_count": null,
      "outputs": [
        {
          "output_type": "execute_result",
          "data": {
            "text/plain": [
              "<matplotlib.legend.Legend at 0x7f4b7d085fd0>"
            ]
          },
          "metadata": {
            "tags": []
          },
          "execution_count": 10
        },
        {
          "output_type": "display_data",
          "data": {
            "image/png": "[encoded data removed]",
            "text/plain": [
              "<Figure size 432x288 with 1 Axes>"
            ]
          },
          "metadata": {
            "tags": [],
            "needs_background": "light"
          }
        }
      ]
    },
    {
      "cell_type": "code",
      "metadata": {
        "id": "q4WMo1Dzdd7i",
        "colab_type": "code",
        "colab": {
          "base_uri": "https://localhost:8080/",
          "height": 204
        },
        "outputId": "c5b9afde-dbdb-4ae5-add7-5a76a28817d2"
      },
      "source": [
        "matches.drop(columns=['Unnamed: 0', 'gameCreation', 'gameMode',\n",
        "       'gameType', 'gameVersion', 'mapId', 'platformId', 'queueId', 'seasonId', 'status.message',\n",
        "       'status.status_code']).head()"
      ],
      "execution_count": null,
      "outputs": [
        {
          "output_type": "execute_result",
          "data": {
            "text/html": [
              "<div>\n",
              "<style scoped>\n",
              "    .dataframe tbody tr th:only-of-type {\n",
              "        vertical-align: middle;\n",
              "    }\n",
              "\n",
              "    .dataframe tbody tr th {\n",
              "        vertical-align: top;\n",
              "    }\n",
              "\n",
              "    .dataframe thead th {\n",
              "        text-align: right;\n",
              "    }\n",
              "</style>\n",
              "<table border=\"1\" class=\"dataframe\">\n",
              "  <thead>\n",
              "    <tr style=\"text-align: right;\">\n",
              "      <th></th>\n",
              "      <th>gameDuration</th>\n",
              "      <th>gameId</th>\n",
              "      <th>participantIdentities</th>\n",
              "      <th>participants</th>\n",
              "    </tr>\n",
              "  </thead>\n",
              "  <tbody>\n",
              "    <tr>\n",
              "      <th>0</th>\n",
              "      <td>1323.0</td>\n",
              "      <td>4.247263e+09</td>\n",
              "      <td>[{'participantId': 1, 'player': {'platformId':...</td>\n",
              "      <td>[{'participantId': 1, 'teamId': 100, 'champion...</td>\n",
              "    </tr>\n",
              "    <tr>\n",
              "      <th>1</th>\n",
              "      <td>1317.0</td>\n",
              "      <td>4.247156e+09</td>\n",
              "      <td>[{'participantId': 1, 'player': {'platformId':...</td>\n",
              "      <td>[{'participantId': 1, 'teamId': 100, 'champion...</td>\n",
              "    </tr>\n",
              "    <tr>\n",
              "      <th>2</th>\n",
              "      <td>932.0</td>\n",
              "      <td>4.243963e+09</td>\n",
              "      <td>[{'participantId': 1, 'player': {'platformId':...</td>\n",
              "      <td>[{'participantId': 1, 'teamId': 100, 'champion...</td>\n",
              "    </tr>\n",
              "    <tr>\n",
              "      <th>3</th>\n",
              "      <td>2098.0</td>\n",
              "      <td>4.241678e+09</td>\n",
              "      <td>[{'participantId': 1, 'player': {'platformId':...</td>\n",
              "      <td>[{'participantId': 1, 'teamId': 100, 'champion...</td>\n",
              "    </tr>\n",
              "    <tr>\n",
              "      <th>4</th>\n",
              "      <td>2344.0</td>\n",
              "      <td>4.241539e+09</td>\n",
              "      <td>[{'participantId': 1, 'player': {'platformId':...</td>\n",
              "      <td>[{'participantId': 1, 'teamId': 100, 'champion...</td>\n",
              "    </tr>\n",
              "  </tbody>\n",
              "</table>\n",
              "</div>"
            ],
            "text/plain": [
              "   gameDuration  ...                                       participants\n",
              "0        1323.0  ...  [{'participantId': 1, 'teamId': 100, 'champion...\n",
              "1        1317.0  ...  [{'participantId': 1, 'teamId': 100, 'champion...\n",
              "2         932.0  ...  [{'participantId': 1, 'teamId': 100, 'champion...\n",
              "3        2098.0  ...  [{'participantId': 1, 'teamId': 100, 'champion...\n",
              "4        2344.0  ...  [{'participantId': 1, 'teamId': 100, 'champion...\n",
              "\n",
              "[5 rows x 4 columns]"
            ]
          },
          "metadata": {
            "tags": []
          },
          "execution_count": 11
        }
      ]
    },
    {
      "cell_type": "code",
      "metadata": {
        "id": "xTY4WRtndvwy",
        "colab_type": "code",
        "colab": {}
      },
      "source": [
        "X_firsts_winners = winners.drop(['Unnamed: 0', 'teamId', 'win',\n",
        "       'towerKills', 'inhibitorKills', 'baronKills', 'dragonKills',\n",
        "       'vilemawKills', 'riftHeraldKills', 'dominionVictoryScore', 'bans',\n",
        "       'gameId'], axis=1)\n",
        "X_firsts_losers = losers.drop(['Unnamed: 0', 'teamId', 'win',\n",
        "       'towerKills', 'inhibitorKills', 'baronKills', 'dragonKills',\n",
        "       'vilemawKills', 'riftHeraldKills', 'dominionVictoryScore', 'bans',\n",
        "       'gameId'], axis=1)"
      ],
      "execution_count": null,
      "outputs": []
    },
    {
      "cell_type": "code",
      "metadata": {
        "id": "-b--71PMzUPD",
        "colab_type": "code",
        "colab": {}
      },
      "source": [
        "# data for winners & losers for first blood, tower, inhib, baron, drag, rift\n",
        "# first half is data from the winners, second half is losers\n",
        "X_firsts = pd.concat([X_firsts_winners, X_firsts_losers]) \n",
        "\n",
        "# convert boolean values to 0 and 1\n",
        "X_firsts['firstBlood'] = X_firsts['firstBlood'].astype(int)\n",
        "X_firsts['firstTower'] = X_firsts['firstTower'].astype(int)\n",
        "X_firsts['firstInhibitor'] = X_firsts['firstInhibitor'].astype(int)\n",
        "X_firsts['firstBaron'] = X_firsts['firstBaron'].astype(int)\n",
        "X_firsts['firstDragon'] = X_firsts['firstDragon'].astype(int)\n",
        "X_firsts['firstRiftHerald'] = X_firsts['firstRiftHerald'].astype(int)"
      ],
      "execution_count": null,
      "outputs": []
    },
    {
      "cell_type": "code",
      "metadata": {
        "id": "lLTSaiEX0CeU",
        "colab_type": "code",
        "colab": {}
      },
      "source": [
        "Y_firsts_winners = winners.drop(['Unnamed: 0', 'teamId', 'firstBlood', 'firstTower',\n",
        "       'firstInhibitor', 'firstBaron', 'firstDragon', 'firstRiftHerald',\n",
        "       'towerKills', 'inhibitorKills', 'baronKills', 'dragonKills',\n",
        "       'vilemawKills', 'riftHeraldKills', 'dominionVictoryScore', 'bans',\n",
        "       'gameId'], axis=1)\n",
        "Y_firsts_losers = losers.drop(['Unnamed: 0', 'teamId', 'firstBlood', 'firstTower',\n",
        "       'firstInhibitor', 'firstBaron', 'firstDragon', 'firstRiftHerald',\n",
        "       'towerKills', 'inhibitorKills', 'baronKills', 'dragonKills',\n",
        "       'vilemawKills', 'riftHeraldKills', 'dominionVictoryScore', 'bans',\n",
        "       'gameId'], axis=1)\n",
        "Y_firsts = pd.concat([Y_firsts_winners, Y_firsts_losers])"
      ],
      "execution_count": null,
      "outputs": []
    },
    {
      "cell_type": "code",
      "metadata": {
        "id": "CtlYxrXD0Ibu",
        "colab_type": "code",
        "colab": {}
      },
      "source": [
        "# for x in range(0, len(Y_firsts)):\n",
        "#     if Y_firsts.iloc[x,0] == 'Win':\n",
        "#         Y_firsts.iloc[x,0] = 1\n",
        "#     else:\n",
        "#         Y_firsts.iloc[x,0] = 0\n",
        "# Y_firsts=Y_firsts['win'].astype(int)\n",
        "\n",
        "Y_firsts['win'] = (Y_firsts['win']=='Win').astype(int)\n"
      ],
      "execution_count": null,
      "outputs": []
    },
    {
      "cell_type": "code",
      "metadata": {
        "id": "w5B8Iar3buPC",
        "colab_type": "code",
        "colab": {}
      },
      "source": [
        "# list of test accuracies for KNN and decision trees that we will compare\n",
        "accuracies = []"
      ],
      "execution_count": null,
      "outputs": []
    },
    {
      "cell_type": "code",
      "metadata": {
        "id": "gtbQIyuM0NRO",
        "colab_type": "code",
        "colab": {}
      },
      "source": [
        "X_f_train, X_f_test, Y_f_train, Y_f_test = train_test_split(X_firsts, Y_firsts, test_size=0.2)"
      ],
      "execution_count": null,
      "outputs": []
    },
    {
      "cell_type": "code",
      "metadata": {
        "id": "D2AkFSHs0O-r",
        "colab_type": "code",
        "colab": {
          "base_uri": "https://localhost:8080/",
          "height": 105
        },
        "outputId": "bf9bb862-6b97-4e57-8681-c556490d37d6"
      },
      "source": [
        "from sklearn.metrics import accuracy_score\n",
        "knn = KNeighborsClassifier()\n",
        "knn.fit(X_f_train, Y_f_train)\n",
        "knn_pred_train = knn.predict(X_f_train)\n",
        "knn_pred_test = knn.predict(X_f_test)\n",
        "print(\"Train Accuracy: \", accuracy_score(Y_f_train, knn_pred_train))\n",
        "print(\"Test Accuracy: \", accuracy_score(Y_f_test, knn_pred_test))\n",
        "accuracies.append(accuracy_score(Y_f_test, knn_pred_test))"
      ],
      "execution_count": null,
      "outputs": [
        {
          "output_type": "stream",
          "text": [
            "/usr/local/lib/python3.6/dist-packages/ipykernel_launcher.py:3: DataConversionWarning: A column-vector y was passed when a 1d array was expected. Please change the shape of y to (n_samples, ), for example using ravel().\n",
            "  This is separate from the ipykernel package so we can avoid doing imports until\n"
          ],
          "name": "stderr"
        },
        {
          "output_type": "stream",
          "text": [
            "Train Accuracy:  0.8268380368239091\n",
            "Test Accuracy:  0.8297574198290912\n"
          ],
          "name": "stdout"
        }
      ]
    },
    {
      "cell_type": "code",
      "metadata": {
        "id": "o_W_UVMA0Uij",
        "colab_type": "code",
        "colab": {}
      },
      "source": [
        "# number of objectives taken\n",
        "X_obj_winners = winners.drop(['Unnamed: 0', 'teamId', 'win', 'firstBlood', 'firstTower',\n",
        "       'firstInhibitor', 'firstBaron', 'firstDragon', 'firstRiftHerald',\n",
        "       'vilemawKills', 'dominionVictoryScore', 'bans', 'gameId'], axis=1)\n",
        "X_obj_losers = losers.drop(['Unnamed: 0', 'teamId', 'win', 'firstBlood', 'firstTower',\n",
        "       'firstInhibitor', 'firstBaron', 'firstDragon', 'firstRiftHerald',\n",
        "       'vilemawKills', 'dominionVictoryScore', 'bans', 'gameId'], axis=1)\n",
        "# data for winners & losers for # of towers, inhibs, barons, dragons, and rifts taken\n",
        "# first half is data from the winners, second half is losers\n",
        "X_obj = pd.concat([X_obj_winners, X_obj_losers]) "
      ],
      "execution_count": null,
      "outputs": []
    },
    {
      "cell_type": "code",
      "metadata": {
        "id": "fr9kdVV8AqBH",
        "colab_type": "code",
        "colab": {}
      },
      "source": [
        "X_obj_train, X_obj_test, Y_obj_train, Y_obj_test = train_test_split(X_obj, Y_firsts, test_size=0.2)"
      ],
      "execution_count": null,
      "outputs": []
    },
    {
      "cell_type": "code",
      "metadata": {
        "id": "UPG0WOWaAsg8",
        "colab_type": "code",
        "colab": {
          "base_uri": "https://localhost:8080/",
          "height": 105
        },
        "outputId": "d43c0726-2d03-496c-f04d-2a1937999293"
      },
      "source": [
        "knn2 = KNeighborsClassifier()\n",
        "knn2.fit(X_obj_train, Y_obj_train)\n",
        "knn_pred_train2 = knn2.predict(X_obj_train)\n",
        "knn_pred_test2 = knn2.predict(X_obj_test)\n",
        "print(\"Train Accuracy: \", accuracy_score(Y_obj_train, knn_pred_train2))\n",
        "print(\"Test Accuracy: \", accuracy_score(Y_obj_test, knn_pred_test2))\n",
        "accuracies.append(accuracy_score(Y_obj_test, knn_pred_test2))"
      ],
      "execution_count": null,
      "outputs": [
        {
          "output_type": "stream",
          "text": [
            "/usr/local/lib/python3.6/dist-packages/ipykernel_launcher.py:2: DataConversionWarning: A column-vector y was passed when a 1d array was expected. Please change the shape of y to (n_samples, ), for example using ravel().\n",
            "  \n"
          ],
          "name": "stderr"
        },
        {
          "output_type": "stream",
          "text": [
            "Train Accuracy:  0.8550245224722327\n",
            "Test Accuracy:  0.8549113295966185\n"
          ],
          "name": "stdout"
        }
      ]
    },
    {
      "cell_type": "code",
      "metadata": {
        "id": "m_FFgsIkAuHw",
        "colab_type": "code",
        "colab": {
          "base_uri": "https://localhost:8080/",
          "height": 51
        },
        "outputId": "68f4b4d2-4b40-4a0a-b171-479e4c33c9d6"
      },
      "source": [
        "from sklearn import tree\n",
        "from sklearn.tree import DecisionTreeClassifier\n",
        "# all 'first' achievements, e.g. firstBaron, firstDragon\n",
        "model_firsts=tree.DecisionTreeClassifier()\n",
        "model_firsts.fit(X_f_train, Y_f_train)\n",
        "dtree_f_pred_train = model_firsts.predict(X_f_train)\n",
        "dtree_f_pred_test = model_firsts.predict(X_f_test) \n",
        "print(\"Train Accuracy: \", accuracy_score(Y_f_train, dtree_f_pred_train))\n",
        "print(\"Test Accuracy: \", accuracy_score(Y_f_test, dtree_f_pred_test))\n",
        "accuracies.append(accuracy_score(Y_f_test, dtree_f_pred_test))"
      ],
      "execution_count": null,
      "outputs": [
        {
          "output_type": "stream",
          "text": [
            "Train Accuracy:  0.8406958179708947\n",
            "Test Accuracy:  0.8454699990811357\n"
          ],
          "name": "stdout"
        }
      ]
    },
    {
      "cell_type": "code",
      "metadata": {
        "id": "m2wr7YIx7_rQ",
        "colab_type": "code",
        "colab": {
          "base_uri": "https://localhost:8080/",
          "height": 51
        },
        "outputId": "8323a8fd-be8f-483a-ff50-c15e20672222"
      },
      "source": [
        "# decision tree for all objectives w/ numerical values\n",
        "model_obj=tree.DecisionTreeClassifier()\n",
        "model_obj.fit(X_obj_train, Y_obj_train)\n",
        "dtree_obj_pred_train = model_obj.predict(X_obj_train)\n",
        "dtree_obj_pred_test = model_obj.predict(X_obj_test) \n",
        "print(\"Train Accuracy: \", accuracy_score(Y_obj_train, dtree_obj_pred_train))\n",
        "print(\"Test Accuracy: \", accuracy_score(Y_obj_test, dtree_obj_pred_test))\n",
        "accuracies.append(accuracy_score(Y_obj_test, dtree_obj_pred_test))"
      ],
      "execution_count": null,
      "outputs": [
        {
          "output_type": "stream",
          "text": [
            "Train Accuracy:  0.863920379495308\n",
            "Test Accuracy:  0.8640999724340714\n"
          ],
          "name": "stdout"
        }
      ]
    },
    {
      "cell_type": "markdown",
      "metadata": {
        "id": "9WWvdEEXVfz3",
        "colab_type": "text"
      },
      "source": [
        "To see if we could further improve our models, we tried to split up the features to see if only a few (i.e. just the number of destroyed towers and/or inhibitors) could be used create a better model rather than sticking to the features in the given format, like ALL of the first achievements."
      ]
    },
    {
      "cell_type": "code",
      "metadata": {
        "id": "F9776LK68BS8",
        "colab_type": "code",
        "colab": {}
      },
      "source": [
        "# all of the first monsters (dragon, baron, rift herald)\n",
        "X_firsts_m = X_firsts.drop(['firstBlood', 'firstTower', 'firstInhibitor'], axis=1)"
      ],
      "execution_count": null,
      "outputs": []
    },
    {
      "cell_type": "code",
      "metadata": {
        "id": "yuvYR9zOWOe-",
        "colab_type": "code",
        "colab": {
          "base_uri": "https://localhost:8080/",
          "height": 105
        },
        "outputId": "a6d3f9e8-6e2a-41f5-af29-b198c7e9521d"
      },
      "source": [
        "# KNN for all of the first monsters\n",
        "X_fm_train, X_fm_test, Y_fm_train, Y_fm_test = train_test_split(X_firsts_m, Y_firsts, test_size=0.2)\n",
        "knn_m = KNeighborsClassifier()\n",
        "knn_m.fit(X_fm_train, Y_fm_train)\n",
        "knn_m_pred_train = knn_m.predict(X_fm_train)\n",
        "knn_m_pred_test = knn_m.predict(X_fm_test)\n",
        "print(\"Train Accuracy: \", accuracy_score(Y_fm_train, knn_m_pred_train))\n",
        "print(\"Test Accuracy: \", accuracy_score(Y_fm_test, knn_m_pred_test))\n",
        "accuracies.append(accuracy_score(Y_fm_test, knn_m_pred_test))"
      ],
      "execution_count": null,
      "outputs": [
        {
          "output_type": "stream",
          "text": [
            "/usr/local/lib/python3.6/dist-packages/ipykernel_launcher.py:4: DataConversionWarning: A column-vector y was passed when a 1d array was expected. Please change the shape of y to (n_samples, ), for example using ravel().\n",
            "  after removing the cwd from sys.path.\n"
          ],
          "name": "stderr"
        },
        {
          "output_type": "stream",
          "text": [
            "Train Accuracy:  0.7155967517774485\n",
            "Test Accuracy:  0.7182991822107875\n"
          ],
          "name": "stdout"
        }
      ]
    },
    {
      "cell_type": "code",
      "metadata": {
        "id": "m-yo2TomWR6w",
        "colab_type": "code",
        "colab": {
          "base_uri": "https://localhost:8080/",
          "height": 51
        },
        "outputId": "9c7c06ba-9d33-486f-9168-20156451a011"
      },
      "source": [
        "# decision tree for all the first monsters\n",
        "model_fm=tree.DecisionTreeClassifier()\n",
        "model_fm.fit(X_fm_train, Y_fm_train)\n",
        "dtree_fm_pred_train = model_fm.predict(X_fm_train)\n",
        "dtree_fm_pred_test = model_fm.predict(X_fm_test) \n",
        "print(\"Train Accuracy: \", accuracy_score(Y_fm_train, dtree_fm_pred_train))\n",
        "print(\"Test Accuracy: \", accuracy_score(Y_fm_test, dtree_fm_pred_test))\n",
        "accuracies.append(accuracy_score(Y_fm_test, dtree_fm_pred_test))"
      ],
      "execution_count": null,
      "outputs": [
        {
          "output_type": "stream",
          "text": [
            "Train Accuracy:  0.7155967517774485\n",
            "Test Accuracy:  0.7182991822107875\n"
          ],
          "name": "stdout"
        }
      ]
    },
    {
      "cell_type": "code",
      "metadata": {
        "id": "mRcAiqA9WWCk",
        "colab_type": "code",
        "colab": {}
      },
      "source": [
        "# first inhibitor\n",
        "X_fi = X_firsts.drop(['firstBlood', 'firstBaron', 'firstDragon', 'firstRiftHerald', 'firstTower'], axis=1)"
      ],
      "execution_count": null,
      "outputs": []
    },
    {
      "cell_type": "code",
      "metadata": {
        "id": "DZNDkXzCWYtz",
        "colab_type": "code",
        "colab": {
          "base_uri": "https://localhost:8080/",
          "height": 105
        },
        "outputId": "d11b99ce-14a1-464b-8279-6e979d5eeb09"
      },
      "source": [
        "# KNN for first inhibitor\n",
        "X_fi_train, X_fi_test, Y_fi_train, Y_fi_test = train_test_split(X_fi, Y_firsts, test_size=0.2)\n",
        "knn_fi = KNeighborsClassifier()\n",
        "knn_fi.fit(X_fi_train, Y_fi_train)\n",
        "knn_fi_pred_train = knn_fi.predict(X_fi_train)\n",
        "knn_fi_pred_test = knn_fi.predict(X_fi_test)\n",
        "print(\"Train Accuracy: \", accuracy_score(Y_fi_train, knn_fi_pred_train))\n",
        "print(\"Test Accuracy: \", accuracy_score(Y_fi_test, knn_fi_pred_test))"
      ],
      "execution_count": null,
      "outputs": [
        {
          "output_type": "stream",
          "text": [
            "/usr/local/lib/python3.6/dist-packages/ipykernel_launcher.py:4: DataConversionWarning: A column-vector y was passed when a 1d array was expected. Please change the shape of y to (n_samples, ), for example using ravel().\n",
            "  after removing the cwd from sys.path.\n"
          ],
          "name": "stderr"
        },
        {
          "output_type": "stream",
          "text": [
            "Train Accuracy:  0.8140599336112929\n",
            "Test Accuracy:  0.8148718184324175\n"
          ],
          "name": "stdout"
        }
      ]
    },
    {
      "cell_type": "code",
      "metadata": {
        "id": "XVTurEd_WbrK",
        "colab_type": "code",
        "colab": {
          "base_uri": "https://localhost:8080/",
          "height": 51
        },
        "outputId": "0ef605d8-39fd-4a6a-f32a-89f0b17b19c0"
      },
      "source": [
        "# decision tree for first inhibitor\n",
        "model_fi=tree.DecisionTreeClassifier()\n",
        "model_fi.fit(X_fi_train, Y_fi_train)\n",
        "dtree_fi_pred_train = model_fi.predict(X_fi_train)\n",
        "dtree_fi_pred_test = model_fi.predict(X_fi_test) \n",
        "print(\"Train Accuracy: \", accuracy_score(Y_fi_train, dtree_fi_pred_train))\n",
        "print(\"Test Accuracy: \", accuracy_score(Y_fi_test, dtree_fi_pred_test))"
      ],
      "execution_count": null,
      "outputs": [
        {
          "output_type": "stream",
          "text": [
            "Train Accuracy:  0.8140599336112929\n",
            "Test Accuracy:  0.8148718184324175\n"
          ],
          "name": "stdout"
        }
      ]
    },
    {
      "cell_type": "markdown",
      "metadata": {
        "id": "B85sLenyWfz3",
        "colab_type": "text"
      },
      "source": [
        "When testing singular features, as above with only the first inhibitor data, we found that the KNN and decision tree models seemed to give the same test and train accuracy scores for the same test train split set, so we decided to use multiple features for these models."
      ]
    },
    {
      "cell_type": "code",
      "metadata": {
        "id": "_qs3JKm9W4bg",
        "colab_type": "code",
        "colab": {}
      },
      "source": [
        "# inhibs and towers\n",
        "X_ti = X_obj.drop(['dragonKills', 'baronKills', 'riftHeraldKills'], axis=1)"
      ],
      "execution_count": null,
      "outputs": []
    },
    {
      "cell_type": "code",
      "metadata": {
        "id": "kN7vOt6PXKMt",
        "colab_type": "code",
        "colab": {
          "base_uri": "https://localhost:8080/",
          "height": 105
        },
        "outputId": "0a766b5b-4311-4b19-a2bd-c1deba645158"
      },
      "source": [
        "# KNN for number of inhibitors and towers\n",
        "X_ti_train, X_ti_test, Y_ti_train, Y_ti_test= train_test_split(X_ti, Y_firsts, test_size=0.2)\n",
        "knn_ti = KNeighborsClassifier()\n",
        "knn_ti.fit(X_ti_train, Y_ti_train)\n",
        "knn_ti_pred_train = knn_ti.predict(X_ti_train)\n",
        "knn_ti_pred_test = knn_ti.predict(X_ti_test)\n",
        "print(\"Train Accuracy: \", accuracy_score(Y_ti_train, knn_ti_pred_train))\n",
        "print(\"Test Accuracy: \", accuracy_score(Y_ti_test, knn_ti_pred_test))\n",
        "accuracies.append(accuracy_score(Y_ti_test, knn_ti_pred_test))"
      ],
      "execution_count": null,
      "outputs": [
        {
          "output_type": "stream",
          "text": [
            "/usr/local/lib/python3.6/dist-packages/ipykernel_launcher.py:4: DataConversionWarning: A column-vector y was passed when a 1d array was expected. Please change the shape of y to (n_samples, ), for example using ravel().\n",
            "  after removing the cwd from sys.path.\n"
          ],
          "name": "stderr"
        },
        {
          "output_type": "stream",
          "text": [
            "Train Accuracy:  0.7732791197179054\n",
            "Test Accuracy:  0.7721676008453552\n"
          ],
          "name": "stdout"
        }
      ]
    },
    {
      "cell_type": "code",
      "metadata": {
        "id": "Nj3FTCs1XYE_",
        "colab_type": "code",
        "colab": {
          "base_uri": "https://localhost:8080/",
          "height": 51
        },
        "outputId": "72705381-e155-4ee9-8d2c-5d4db0ba5a20"
      },
      "source": [
        "# decision tree for number of inhibitors and towers\n",
        "model_ti=tree.DecisionTreeClassifier()\n",
        "model_ti.fit(X_ti_train, Y_ti_train)\n",
        "dtree_ti_pred_train = model_ti.predict(X_ti_train)\n",
        "dtree_ti_pred_test = model_ti.predict(X_ti_test) \n",
        "print(\"Train Accuracy: \", accuracy_score(Y_ti_train, dtree_ti_pred_train))\n",
        "print(\"Test Accuracy: \", accuracy_score(Y_ti_test, dtree_ti_pred_test))\n",
        "accuracies.append(accuracy_score(Y_ti_test, dtree_ti_pred_test))"
      ],
      "execution_count": null,
      "outputs": [
        {
          "output_type": "stream",
          "text": [
            "Train Accuracy:  0.8534566922803027\n",
            "Test Accuracy:  0.8562207112009557\n"
          ],
          "name": "stdout"
        }
      ]
    },
    {
      "cell_type": "code",
      "metadata": {
        "id": "qIk2zuvNXbQS",
        "colab_type": "code",
        "colab": {}
      },
      "source": [
        "# number of dragons and barons\n",
        "X_db = X_obj.drop(['inhibitorKills', 'towerKills','riftHeraldKills'], axis=1)"
      ],
      "execution_count": null,
      "outputs": []
    },
    {
      "cell_type": "code",
      "metadata": {
        "id": "-eeaWrHNXe1R",
        "colab_type": "code",
        "colab": {
          "base_uri": "https://localhost:8080/",
          "height": 105
        },
        "outputId": "29db34a1-c334-4171-d3fe-3abf8e778ecb"
      },
      "source": [
        "# KNN for dragons and barons\n",
        "X_db_train, X_db_test, Y_db_train, Y_db_test= train_test_split(X_db, Y_firsts, test_size=0.2)\n",
        "knn_db = KNeighborsClassifier()\n",
        "knn_db.fit(X_db_train, Y_db_train)\n",
        "knn_db_pred_train = knn_db.predict(X_db_train)\n",
        "knn_db_pred_test = knn_db.predict(X_db_test)\n",
        "print(\"Train Accuracy: \", accuracy_score(Y_db_train, knn_db_pred_train))\n",
        "print(\"Test Accuracy: \", accuracy_score(Y_db_test, knn_db_pred_test))\n",
        "accuracies.append(accuracy_score(Y_db_test, knn_db_pred_test))"
      ],
      "execution_count": null,
      "outputs": [
        {
          "output_type": "stream",
          "text": [
            "/usr/local/lib/python3.6/dist-packages/ipykernel_launcher.py:4: DataConversionWarning: A column-vector y was passed when a 1d array was expected. Please change the shape of y to (n_samples, ), for example using ravel().\n",
            "  after removing the cwd from sys.path.\n"
          ],
          "name": "stderr"
        },
        {
          "output_type": "stream",
          "text": [
            "Train Accuracy:  0.6920907848339708\n",
            "Test Accuracy:  0.6991408618946982\n"
          ],
          "name": "stdout"
        }
      ]
    },
    {
      "cell_type": "code",
      "metadata": {
        "id": "5kEDdqZKXjfz",
        "colab_type": "code",
        "colab": {
          "base_uri": "https://localhost:8080/",
          "height": 51
        },
        "outputId": "f2fbfec2-5f68-4b21-e2bb-5f0a483eb9a1"
      },
      "source": [
        "# decision tree for dragons and barons\n",
        "model_db=tree.DecisionTreeClassifier()\n",
        "model_db.fit(X_db_train, Y_db_train)\n",
        "dtree_db_pred_train = model_db.predict(X_db_train)\n",
        "dtree_db_pred_test = model_db.predict(X_db_test) \n",
        "print(\"Train Accuracy: \", accuracy_score(Y_db_train, dtree_db_pred_train))\n",
        "print(\"Test Accuracy: \", accuracy_score(Y_db_test, dtree_db_pred_test))\n",
        "accuracies.append(accuracy_score(Y_db_test, dtree_db_pred_test))"
      ],
      "execution_count": null,
      "outputs": [
        {
          "output_type": "stream",
          "text": [
            "Train Accuracy:  0.7210812859653355\n",
            "Test Accuracy:  0.7251447211246899\n"
          ],
          "name": "stdout"
        }
      ]
    },
    {
      "cell_type": "code",
      "metadata": {
        "id": "OZgZZBZAdFzY",
        "colab_type": "code",
        "colab": {
          "base_uri": "https://localhost:8080/",
          "height": 344
        },
        "outputId": "03b6eddb-55a3-484e-e194-c12b4dea51fb"
      },
      "source": [
        "df = pd.DataFrame({'accuracies': accuracies}, columns = ['all objectives- knn', 'all objectives- dt', 'all first monsters- knn', 'all first monsters- dt', 'inhibs and towers- knn', 'inhibs and towers- dt', 'dragons and barons- knn', 'dragons and barons-dt'])\n",
        "ax = df.plot.bar(rot=-45)"
      ],
      "execution_count": null,
      "outputs": [
        {
          "output_type": "error",
          "ename": "TypeError",
          "evalue": "ignored",
          "traceback": [
            "\u001b[0;31m---------------------------------------------------------------------------\u001b[0m",
            "\u001b[0;31mTypeError\u001b[0m                                 Traceback (most recent call last)",
            "\u001b[0;32m<ipython-input-36-856566de0343>\u001b[0m in \u001b[0;36m<module>\u001b[0;34m()\u001b[0m\n\u001b[1;32m      1\u001b[0m \u001b[0mdf\u001b[0m \u001b[0;34m=\u001b[0m \u001b[0mpd\u001b[0m\u001b[0;34m.\u001b[0m\u001b[0mDataFrame\u001b[0m\u001b[0;34m(\u001b[0m\u001b[0;34m{\u001b[0m\u001b[0;34m'accuracies'\u001b[0m\u001b[0;34m:\u001b[0m \u001b[0maccuracies\u001b[0m\u001b[0;34m}\u001b[0m\u001b[0;34m,\u001b[0m \u001b[0mcolumns\u001b[0m \u001b[0;34m=\u001b[0m \u001b[0;34m[\u001b[0m\u001b[0;34m'all objectives- knn'\u001b[0m\u001b[0;34m,\u001b[0m \u001b[0;34m'all objectives- dt'\u001b[0m\u001b[0;34m,\u001b[0m \u001b[0;34m'all first monsters- knn'\u001b[0m\u001b[0;34m,\u001b[0m \u001b[0;34m'all first monsters- dt'\u001b[0m\u001b[0;34m,\u001b[0m \u001b[0;34m'inhibs and towers- knn'\u001b[0m\u001b[0;34m,\u001b[0m \u001b[0;34m'inhibs and towers- dt'\u001b[0m\u001b[0;34m,\u001b[0m \u001b[0;34m'dragons and barons- knn'\u001b[0m\u001b[0;34m,\u001b[0m \u001b[0;34m'dragons and barons-dt'\u001b[0m\u001b[0;34m]\u001b[0m\u001b[0;34m)\u001b[0m\u001b[0;34m\u001b[0m\u001b[0;34m\u001b[0m\u001b[0m\n\u001b[0;32m----> 2\u001b[0;31m \u001b[0max\u001b[0m \u001b[0;34m=\u001b[0m \u001b[0mdf\u001b[0m\u001b[0;34m.\u001b[0m\u001b[0mplot\u001b[0m\u001b[0;34m.\u001b[0m\u001b[0mbar\u001b[0m\u001b[0;34m(\u001b[0m\u001b[0mrot\u001b[0m\u001b[0;34m=\u001b[0m\u001b[0;34m-\u001b[0m\u001b[0;36m45\u001b[0m\u001b[0;34m)\u001b[0m\u001b[0;34m\u001b[0m\u001b[0;34m\u001b[0m\u001b[0m\n\u001b[0m",
            "\u001b[0;32m/usr/local/lib/python3.6/dist-packages/pandas/plotting/_core.py\u001b[0m in \u001b[0;36mbar\u001b[0;34m(self, x, y, **kwargs)\u001b[0m\n\u001b[1;32m   1001\u001b[0m             \u001b[0;34m>>\u001b[0m\u001b[0;34m>\u001b[0m \u001b[0max\u001b[0m \u001b[0;34m=\u001b[0m \u001b[0mdf\u001b[0m\u001b[0;34m.\u001b[0m\u001b[0mplot\u001b[0m\u001b[0;34m.\u001b[0m\u001b[0mbar\u001b[0m\u001b[0;34m(\u001b[0m\u001b[0mx\u001b[0m\u001b[0;34m=\u001b[0m\u001b[0;34m'lifespan'\u001b[0m\u001b[0;34m,\u001b[0m \u001b[0mrot\u001b[0m\u001b[0;34m=\u001b[0m\u001b[0;36m0\u001b[0m\u001b[0;34m)\u001b[0m\u001b[0;34m\u001b[0m\u001b[0;34m\u001b[0m\u001b[0m\n\u001b[1;32m   1002\u001b[0m         \"\"\"\n\u001b[0;32m-> 1003\u001b[0;31m         \u001b[0;32mreturn\u001b[0m \u001b[0mself\u001b[0m\u001b[0;34m(\u001b[0m\u001b[0mkind\u001b[0m\u001b[0;34m=\u001b[0m\u001b[0;34m\"bar\"\u001b[0m\u001b[0;34m,\u001b[0m \u001b[0mx\u001b[0m\u001b[0;34m=\u001b[0m\u001b[0mx\u001b[0m\u001b[0;34m,\u001b[0m \u001b[0my\u001b[0m\u001b[0;34m=\u001b[0m\u001b[0my\u001b[0m\u001b[0;34m,\u001b[0m \u001b[0;34m**\u001b[0m\u001b[0mkwargs\u001b[0m\u001b[0;34m)\u001b[0m\u001b[0;34m\u001b[0m\u001b[0;34m\u001b[0m\u001b[0m\n\u001b[0m\u001b[1;32m   1004\u001b[0m \u001b[0;34m\u001b[0m\u001b[0m\n\u001b[1;32m   1005\u001b[0m     \u001b[0;32mdef\u001b[0m \u001b[0mbarh\u001b[0m\u001b[0;34m(\u001b[0m\u001b[0mself\u001b[0m\u001b[0;34m,\u001b[0m \u001b[0mx\u001b[0m\u001b[0;34m=\u001b[0m\u001b[0;32mNone\u001b[0m\u001b[0;34m,\u001b[0m \u001b[0my\u001b[0m\u001b[0;34m=\u001b[0m\u001b[0;32mNone\u001b[0m\u001b[0;34m,\u001b[0m \u001b[0;34m**\u001b[0m\u001b[0mkwargs\u001b[0m\u001b[0;34m)\u001b[0m\u001b[0;34m:\u001b[0m\u001b[0;34m\u001b[0m\u001b[0;34m\u001b[0m\u001b[0m\n",
            "\u001b[0;32m/usr/local/lib/python3.6/dist-packages/pandas/plotting/_core.py\u001b[0m in \u001b[0;36m__call__\u001b[0;34m(self, *args, **kwargs)\u001b[0m\n\u001b[1;32m    845\u001b[0m                     \u001b[0mdata\u001b[0m\u001b[0;34m.\u001b[0m\u001b[0mcolumns\u001b[0m \u001b[0;34m=\u001b[0m \u001b[0mlabel_name\u001b[0m\u001b[0;34m\u001b[0m\u001b[0;34m\u001b[0m\u001b[0m\n\u001b[1;32m    846\u001b[0m \u001b[0;34m\u001b[0m\u001b[0m\n\u001b[0;32m--> 847\u001b[0;31m         \u001b[0;32mreturn\u001b[0m \u001b[0mplot_backend\u001b[0m\u001b[0;34m.\u001b[0m\u001b[0mplot\u001b[0m\u001b[0;34m(\u001b[0m\u001b[0mdata\u001b[0m\u001b[0;34m,\u001b[0m \u001b[0mkind\u001b[0m\u001b[0;34m=\u001b[0m\u001b[0mkind\u001b[0m\u001b[0;34m,\u001b[0m \u001b[0;34m**\u001b[0m\u001b[0mkwargs\u001b[0m\u001b[0;34m)\u001b[0m\u001b[0;34m\u001b[0m\u001b[0;34m\u001b[0m\u001b[0m\n\u001b[0m\u001b[1;32m    848\u001b[0m \u001b[0;34m\u001b[0m\u001b[0m\n\u001b[1;32m    849\u001b[0m     \u001b[0m__call__\u001b[0m\u001b[0;34m.\u001b[0m\u001b[0m__doc__\u001b[0m \u001b[0;34m=\u001b[0m \u001b[0m__doc__\u001b[0m\u001b[0;34m\u001b[0m\u001b[0;34m\u001b[0m\u001b[0m\n",
            "\u001b[0;32m/usr/local/lib/python3.6/dist-packages/pandas/plotting/_matplotlib/__init__.py\u001b[0m in \u001b[0;36mplot\u001b[0;34m(data, kind, **kwargs)\u001b[0m\n\u001b[1;32m     59\u001b[0m             \u001b[0mkwargs\u001b[0m\u001b[0;34m[\u001b[0m\u001b[0;34m\"ax\"\u001b[0m\u001b[0;34m]\u001b[0m \u001b[0;34m=\u001b[0m \u001b[0mgetattr\u001b[0m\u001b[0;34m(\u001b[0m\u001b[0max\u001b[0m\u001b[0;34m,\u001b[0m \u001b[0;34m\"left_ax\"\u001b[0m\u001b[0;34m,\u001b[0m \u001b[0max\u001b[0m\u001b[0;34m)\u001b[0m\u001b[0;34m\u001b[0m\u001b[0;34m\u001b[0m\u001b[0m\n\u001b[1;32m     60\u001b[0m     \u001b[0mplot_obj\u001b[0m \u001b[0;34m=\u001b[0m \u001b[0mPLOT_CLASSES\u001b[0m\u001b[0;34m[\u001b[0m\u001b[0mkind\u001b[0m\u001b[0;34m]\u001b[0m\u001b[0;34m(\u001b[0m\u001b[0mdata\u001b[0m\u001b[0;34m,\u001b[0m \u001b[0;34m**\u001b[0m\u001b[0mkwargs\u001b[0m\u001b[0;34m)\u001b[0m\u001b[0;34m\u001b[0m\u001b[0;34m\u001b[0m\u001b[0m\n\u001b[0;32m---> 61\u001b[0;31m     \u001b[0mplot_obj\u001b[0m\u001b[0;34m.\u001b[0m\u001b[0mgenerate\u001b[0m\u001b[0;34m(\u001b[0m\u001b[0;34m)\u001b[0m\u001b[0;34m\u001b[0m\u001b[0;34m\u001b[0m\u001b[0m\n\u001b[0m\u001b[1;32m     62\u001b[0m     \u001b[0mplot_obj\u001b[0m\u001b[0;34m.\u001b[0m\u001b[0mdraw\u001b[0m\u001b[0;34m(\u001b[0m\u001b[0;34m)\u001b[0m\u001b[0;34m\u001b[0m\u001b[0;34m\u001b[0m\u001b[0m\n\u001b[1;32m     63\u001b[0m     \u001b[0;32mreturn\u001b[0m \u001b[0mplot_obj\u001b[0m\u001b[0;34m.\u001b[0m\u001b[0mresult\u001b[0m\u001b[0;34m\u001b[0m\u001b[0;34m\u001b[0m\u001b[0m\n",
            "\u001b[0;32m/usr/local/lib/python3.6/dist-packages/pandas/plotting/_matplotlib/core.py\u001b[0m in \u001b[0;36mgenerate\u001b[0;34m(self)\u001b[0m\n\u001b[1;32m    259\u001b[0m     \u001b[0;32mdef\u001b[0m \u001b[0mgenerate\u001b[0m\u001b[0;34m(\u001b[0m\u001b[0mself\u001b[0m\u001b[0;34m)\u001b[0m\u001b[0;34m:\u001b[0m\u001b[0;34m\u001b[0m\u001b[0;34m\u001b[0m\u001b[0m\n\u001b[1;32m    260\u001b[0m         \u001b[0mself\u001b[0m\u001b[0;34m.\u001b[0m\u001b[0m_args_adjust\u001b[0m\u001b[0;34m(\u001b[0m\u001b[0;34m)\u001b[0m\u001b[0;34m\u001b[0m\u001b[0;34m\u001b[0m\u001b[0m\n\u001b[0;32m--> 261\u001b[0;31m         \u001b[0mself\u001b[0m\u001b[0;34m.\u001b[0m\u001b[0m_compute_plot_data\u001b[0m\u001b[0;34m(\u001b[0m\u001b[0;34m)\u001b[0m\u001b[0;34m\u001b[0m\u001b[0;34m\u001b[0m\u001b[0m\n\u001b[0m\u001b[1;32m    262\u001b[0m         \u001b[0mself\u001b[0m\u001b[0;34m.\u001b[0m\u001b[0m_setup_subplots\u001b[0m\u001b[0;34m(\u001b[0m\u001b[0;34m)\u001b[0m\u001b[0;34m\u001b[0m\u001b[0;34m\u001b[0m\u001b[0m\n\u001b[1;32m    263\u001b[0m         \u001b[0mself\u001b[0m\u001b[0;34m.\u001b[0m\u001b[0m_make_plot\u001b[0m\u001b[0;34m(\u001b[0m\u001b[0;34m)\u001b[0m\u001b[0;34m\u001b[0m\u001b[0;34m\u001b[0m\u001b[0m\n",
            "\u001b[0;32m/usr/local/lib/python3.6/dist-packages/pandas/plotting/_matplotlib/core.py\u001b[0m in \u001b[0;36m_compute_plot_data\u001b[0;34m(self)\u001b[0m\n\u001b[1;32m    408\u001b[0m         \u001b[0;31m# no non-numeric frames or series allowed\u001b[0m\u001b[0;34m\u001b[0m\u001b[0;34m\u001b[0m\u001b[0;34m\u001b[0m\u001b[0m\n\u001b[1;32m    409\u001b[0m         \u001b[0;32mif\u001b[0m \u001b[0mis_empty\u001b[0m\u001b[0;34m:\u001b[0m\u001b[0;34m\u001b[0m\u001b[0;34m\u001b[0m\u001b[0m\n\u001b[0;32m--> 410\u001b[0;31m             \u001b[0;32mraise\u001b[0m \u001b[0mTypeError\u001b[0m\u001b[0;34m(\u001b[0m\u001b[0;34m\"no numeric data to plot\"\u001b[0m\u001b[0;34m)\u001b[0m\u001b[0;34m\u001b[0m\u001b[0;34m\u001b[0m\u001b[0m\n\u001b[0m\u001b[1;32m    411\u001b[0m \u001b[0;34m\u001b[0m\u001b[0m\n\u001b[1;32m    412\u001b[0m         \u001b[0;31m# GH25587: cast ExtensionArray of pandas (IntegerArray, etc.) to\u001b[0m\u001b[0;34m\u001b[0m\u001b[0;34m\u001b[0m\u001b[0;34m\u001b[0m\u001b[0m\n",
            "\u001b[0;31mTypeError\u001b[0m: no numeric data to plot"
          ]
        }
      ]
    },
    {
      "cell_type": "markdown",
      "metadata": {
        "id": "kNYZnD19dXb2",
        "colab_type": "text"
      },
      "source": [
        "We compared the test accuracy scores for the KNN and decision tree models for all first achievements, all objectives, number of inhibitors and towers, and number of dragons and barons."
      ]
    },
    {
      "cell_type": "markdown",
      "metadata": {
        "id": "I3ZhXlEuarog",
        "colab_type": "text"
      },
      "source": [
        "Some other considerations that would improve the models would be incorporating the time of the matches, given in seconds in the match_data_version1.csv file. There are some game mechanics that limit the effectiveness of these models without including the time -- monsters spawn and despawn at certain times, and it is also possible for teams to forfeit matches, either unanimously after 15 minutes have passed or with 80% of the team voting to surrender after 20 minutes. If a game is not sufficiently long, certain objectives will not spawn, so the data would be biased without including such factors."
      ]
    },
    {
      "cell_type": "code",
      "metadata": {
        "id": "oZd1_v2weWBm",
        "colab_type": "code",
        "colab": {}
      },
      "source": [
        ""
      ],
      "execution_count": null,
      "outputs": []
    }
  ]
}